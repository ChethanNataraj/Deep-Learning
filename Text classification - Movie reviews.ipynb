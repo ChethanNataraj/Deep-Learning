{
 "cells": [
  {
   "cell_type": "code",
   "execution_count": 1,
   "metadata": {},
   "outputs": [
    {
     "name": "stdout",
     "output_type": "stream",
     "text": [
      "^C\n"
     ]
    }
   ],
   "source": [
    "# keras.datasets.imdb is broken in 1.13 and 1.14, by np 1.16.3\n",
    "!pip install -q tf_nightly"
   ]
  },
  {
   "cell_type": "code",
   "execution_count": 2,
   "metadata": {},
   "outputs": [
    {
     "name": "stdout",
     "output_type": "stream",
     "text": [
      "1.13.1\n"
     ]
    }
   ],
   "source": [
    "from __future__ import absolute_import, division, print_function, unicode_literals\n",
    "\n",
    "import tensorflow as tf\n",
    "from tensorflow import keras\n",
    "\n",
    "import numpy as np\n",
    "\n",
    "print(tf.__version__)"
   ]
  },
  {
   "cell_type": "code",
   "execution_count": 3,
   "metadata": {},
   "outputs": [],
   "source": [
    "imdb = keras.datasets.imdb"
   ]
  },
  {
   "cell_type": "code",
   "execution_count": 7,
   "metadata": {},
   "outputs": [],
   "source": [
    "# save np.load\n",
    "np_load_old = np.load\n",
    "\n",
    "# modify the default parameters of np.load\n",
    "np.load = lambda *a,**k: np_load_old(*a, allow_pickle=True, **k)\n",
    "\n",
    "# call load_data with allow_pickle implicitly set to true\n",
    "(train_data, train_labels), (test_data, test_labels) = imdb.load_data(num_words=10000)\n",
    "\n",
    "# restore np.load for future normal usage\n",
    "np.load = np_load_old"
   ]
  },
  {
   "cell_type": "code",
   "execution_count": 9,
   "metadata": {},
   "outputs": [
    {
     "data": {
      "text/plain": [
       "25000"
      ]
     },
     "execution_count": 9,
     "metadata": {},
     "output_type": "execute_result"
    }
   ],
   "source": [
    "len(train_data)"
   ]
  },
  {
   "cell_type": "code",
   "execution_count": 10,
   "metadata": {},
   "outputs": [
    {
     "name": "stdout",
     "output_type": "stream",
     "text": [
      "Training entries: 25000, labels: 25000\n"
     ]
    }
   ],
   "source": [
    "print('Training entries: {}, labels: {}'.format(len(train_data), len(train_labels)))"
   ]
  },
  {
   "cell_type": "code",
   "execution_count": 12,
   "metadata": {},
   "outputs": [
    {
     "name": "stdout",
     "output_type": "stream",
     "text": [
      "[1, 14, 22, 16, 43, 530, 973, 1622, 1385, 65, 458, 4468, 66, 3941, 4, 173, 36, 256, 5, 25, 100, 43, 838, 112, 50, 670, 2, 9, 35, 480, 284, 5, 150, 4, 172, 112, 167, 2, 336, 385, 39, 4, 172, 4536, 1111, 17, 546, 38, 13, 447, 4, 192, 50, 16, 6, 147, 2025, 19, 14, 22, 4, 1920, 4613, 469, 4, 22, 71, 87, 12, 16, 43, 530, 38, 76, 15, 13, 1247, 4, 22, 17, 515, 17, 12, 16, 626, 18, 2, 5, 62, 386, 12, 8, 316, 8, 106, 5, 4, 2223, 5244, 16, 480, 66, 3785, 33, 4, 130, 12, 16, 38, 619, 5, 25, 124, 51, 36, 135, 48, 25, 1415, 33, 6, 22, 12, 215, 28, 77, 52, 5, 14, 407, 16, 82, 2, 8, 4, 107, 117, 5952, 15, 256, 4, 2, 7, 3766, 5, 723, 36, 71, 43, 530, 476, 26, 400, 317, 46, 7, 4, 2, 1029, 13, 104, 88, 4, 381, 15, 297, 98, 32, 2071, 56, 26, 141, 6, 194, 7486, 18, 4, 226, 22, 21, 134, 476, 26, 480, 5, 144, 30, 5535, 18, 51, 36, 28, 224, 92, 25, 104, 4, 226, 65, 16, 38, 1334, 88, 12, 16, 283, 5, 16, 4472, 113, 103, 32, 15, 16, 5345, 19, 178, 32]\n"
     ]
    }
   ],
   "source": [
    "print(train_data[0])"
   ]
  },
  {
   "cell_type": "code",
   "execution_count": 14,
   "metadata": {},
   "outputs": [
    {
     "data": {
      "text/plain": [
       "1"
      ]
     },
     "execution_count": 14,
     "metadata": {},
     "output_type": "execute_result"
    }
   ],
   "source": [
    "min(train_data[0])"
   ]
  },
  {
   "cell_type": "code",
   "execution_count": 15,
   "metadata": {},
   "outputs": [
    {
     "data": {
      "text/plain": [
       "(218, 189)"
      ]
     },
     "execution_count": 15,
     "metadata": {},
     "output_type": "execute_result"
    }
   ],
   "source": [
    "len(train_data[0]), len(train_data[1])"
   ]
  },
  {
   "cell_type": "code",
   "execution_count": 17,
   "metadata": {},
   "outputs": [],
   "source": [
    "# A dictionary mapping words to an integer index\n",
    "word_index = imdb.get_word_index()\n",
    "\n",
    "# The first indices are reserved\n",
    "word_index = {k:(v+3) for k,v in word_index.items()}\n",
    "word_index[\"<PAD>\"] = 0\n",
    "word_index[\"<START>\"] = 1\n",
    "word_index[\"<UNK>\"] = 2  # unknown\n",
    "word_index[\"<UNUSED>\"] = 3\n",
    "\n",
    "reverse_word_index = dict([(value, key) for (key, value) in word_index.items()])\n",
    "\n",
    "def decode_review(text):\n",
    "    return ' '.join([reverse_word_index.get(i, '?') for i in text])"
   ]
  },
  {
   "cell_type": "code",
   "execution_count": 18,
   "metadata": {},
   "outputs": [
    {
     "data": {
      "text/plain": [
       "\"<START> this film was just brilliant casting location scenery story direction everyone's really suited the part they played and you could just imagine being there robert <UNK> is an amazing actor and now the same being director <UNK> father came from the same scottish island as myself so i loved the fact there was a real connection with this film the witty remarks throughout the film were great it was just brilliant so much that i bought the film as soon as it was released for <UNK> and would recommend it to everyone to watch and the fly fishing was amazing really cried at the end it was so sad and you know what they say if you cry at a film it must have been good and this definitely was also <UNK> to the two little boy's that played the <UNK> of norman and paul they were just brilliant children are often left out of the <UNK> list i think because the stars that play them all grown up are such a big profile for the whole film but these children are amazing and should be praised for what they have done don't you think the whole story was so lovely because it was true and was someone's life after all that was shared with us all\""
      ]
     },
     "execution_count": 18,
     "metadata": {},
     "output_type": "execute_result"
    }
   ],
   "source": [
    "decode_review(train_data[0])"
   ]
  },
  {
   "cell_type": "code",
   "execution_count": 21,
   "metadata": {},
   "outputs": [],
   "source": [
    "train_data = keras.preprocessing.sequence.pad_sequences(train_data, value=word_index[\"<PAD>\"], padding='post', maxlen=256)\n",
    "test_data = keras.preprocessing.sequence.pad_sequences(test_data, value=word_index[\"<PAD>\"], padding='post', maxlen=256)"
   ]
  },
  {
   "cell_type": "code",
   "execution_count": 22,
   "metadata": {},
   "outputs": [
    {
     "data": {
      "text/plain": [
       "(256, 256)"
      ]
     },
     "execution_count": 22,
     "metadata": {},
     "output_type": "execute_result"
    }
   ],
   "source": [
    "len(train_data[0]), len(train_data[1])"
   ]
  },
  {
   "cell_type": "code",
   "execution_count": 23,
   "metadata": {},
   "outputs": [
    {
     "name": "stdout",
     "output_type": "stream",
     "text": [
      "[   1   14   22   16   43  530  973 1622 1385   65  458 4468   66 3941\n",
      "    4  173   36  256    5   25  100   43  838  112   50  670    2    9\n",
      "   35  480  284    5  150    4  172  112  167    2  336  385   39    4\n",
      "  172 4536 1111   17  546   38   13  447    4  192   50   16    6  147\n",
      " 2025   19   14   22    4 1920 4613  469    4   22   71   87   12   16\n",
      "   43  530   38   76   15   13 1247    4   22   17  515   17   12   16\n",
      "  626   18    2    5   62  386   12    8  316    8  106    5    4 2223\n",
      " 5244   16  480   66 3785   33    4  130   12   16   38  619    5   25\n",
      "  124   51   36  135   48   25 1415   33    6   22   12  215   28   77\n",
      "   52    5   14  407   16   82    2    8    4  107  117 5952   15  256\n",
      "    4    2    7 3766    5  723   36   71   43  530  476   26  400  317\n",
      "   46    7    4    2 1029   13  104   88    4  381   15  297   98   32\n",
      " 2071   56   26  141    6  194 7486   18    4  226   22   21  134  476\n",
      "   26  480    5  144   30 5535   18   51   36   28  224   92   25  104\n",
      "    4  226   65   16   38 1334   88   12   16  283    5   16 4472  113\n",
      "  103   32   15   16 5345   19  178   32    0    0    0    0    0    0\n",
      "    0    0    0    0    0    0    0    0    0    0    0    0    0    0\n",
      "    0    0    0    0    0    0    0    0    0    0    0    0    0    0\n",
      "    0    0    0    0]\n"
     ]
    }
   ],
   "source": [
    "print(train_data[0])"
   ]
  },
  {
   "cell_type": "code",
   "execution_count": 24,
   "metadata": {},
   "outputs": [
    {
     "name": "stdout",
     "output_type": "stream",
     "text": [
      "WARNING:tensorflow:From C:\\Users\\knataraj\\AppData\\Local\\Continuum\\anaconda3\\lib\\site-packages\\tensorflow\\python\\ops\\resource_variable_ops.py:435: colocate_with (from tensorflow.python.framework.ops) is deprecated and will be removed in a future version.\n",
      "Instructions for updating:\n",
      "Colocations handled automatically by placer.\n",
      "_________________________________________________________________\n",
      "Layer (type)                 Output Shape              Param #   \n",
      "=================================================================\n",
      "embedding (Embedding)        (None, None, 16)          160000    \n",
      "_________________________________________________________________\n",
      "global_average_pooling1d (Gl (None, 16)                0         \n",
      "_________________________________________________________________\n",
      "dense (Dense)                (None, 16)                272       \n",
      "_________________________________________________________________\n",
      "dense_1 (Dense)              (None, 1)                 17        \n",
      "=================================================================\n",
      "Total params: 160,289\n",
      "Trainable params: 160,289\n",
      "Non-trainable params: 0\n",
      "_________________________________________________________________\n"
     ]
    }
   ],
   "source": [
    "# input shape is the vocabulary count used for the movie reviews (10,000 words)\n",
    "vocab_size = 10000\n",
    "\n",
    "model = keras.Sequential()\n",
    "model.add(keras.layers.Embedding(vocab_size, 16))\n",
    "model.add(keras.layers.GlobalAveragePooling1D())\n",
    "model.add(keras.layers.Dense(16, activation=tf.nn.relu))\n",
    "model.add(keras.layers.Dense(1, activation=tf.nn.sigmoid))\n",
    "\n",
    "model.summary()"
   ]
  },
  {
   "cell_type": "code",
   "execution_count": 25,
   "metadata": {},
   "outputs": [],
   "source": [
    "model.compile(optimizer='adam',\n",
    "              loss='binary_crossentropy',\n",
    "              metrics=['acc'])"
   ]
  },
  {
   "cell_type": "code",
   "execution_count": 26,
   "metadata": {},
   "outputs": [],
   "source": [
    "x_val = train_data[:10000]\n",
    "partial_x_train = train_data[10000:]\n",
    "\n",
    "y_val = train_labels[:10000]\n",
    "partial_y_train = train_labels[10000:]"
   ]
  },
  {
   "cell_type": "code",
   "execution_count": 27,
   "metadata": {},
   "outputs": [
    {
     "name": "stdout",
     "output_type": "stream",
     "text": [
      "Train on 15000 samples, validate on 10000 samples\n",
      "WARNING:tensorflow:From C:\\Users\\knataraj\\AppData\\Local\\Continuum\\anaconda3\\lib\\site-packages\\tensorflow\\python\\ops\\math_ops.py:3066: to_int32 (from tensorflow.python.ops.math_ops) is deprecated and will be removed in a future version.\n",
      "Instructions for updating:\n",
      "Use tf.cast instead.\n",
      "Epoch 1/40\n",
      "15000/15000 [==============================] - 3s 193us/sample - loss: 0.6920 - acc: 0.5623 - val_loss: 0.6903 - val_acc: 0.5905\n",
      "Epoch 2/40\n",
      "15000/15000 [==============================] - 1s 53us/sample - loss: 0.6869 - acc: 0.6745 - val_loss: 0.6834 - val_acc: 0.6975\n",
      "Epoch 3/40\n",
      "15000/15000 [==============================] - 1s 63us/sample - loss: 0.6758 - acc: 0.7294 - val_loss: 0.6691 - val_acc: 0.7498\n",
      "Epoch 4/40\n",
      "15000/15000 [==============================] - 1s 64us/sample - loss: 0.6555 - acc: 0.7451 - val_loss: 0.6457 - val_acc: 0.7593\n",
      "Epoch 5/40\n",
      "15000/15000 [==============================] - 1s 60us/sample - loss: 0.6248 - acc: 0.7807 - val_loss: 0.6133 - val_acc: 0.7783\n",
      "Epoch 6/40\n",
      "15000/15000 [==============================] - 1s 55us/sample - loss: 0.5850 - acc: 0.8046 - val_loss: 0.5746 - val_acc: 0.7928\n",
      "Epoch 7/40\n",
      "15000/15000 [==============================] - 1s 55us/sample - loss: 0.5395 - acc: 0.8193 - val_loss: 0.5314 - val_acc: 0.8125\n",
      "Epoch 8/40\n",
      "15000/15000 [==============================] - 1s 56us/sample - loss: 0.4930 - acc: 0.8407 - val_loss: 0.4906 - val_acc: 0.8269\n",
      "Epoch 9/40\n",
      "15000/15000 [==============================] - 1s 55us/sample - loss: 0.4488 - acc: 0.8550 - val_loss: 0.4528 - val_acc: 0.8399\n",
      "Epoch 10/40\n",
      "15000/15000 [==============================] - 1s 63us/sample - loss: 0.4091 - acc: 0.8693 - val_loss: 0.4212 - val_acc: 0.8474\n",
      "Epoch 11/40\n",
      "15000/15000 [==============================] - 1s 68us/sample - loss: 0.3752 - acc: 0.8779 - val_loss: 0.3947 - val_acc: 0.8560\n",
      "Epoch 12/40\n",
      "15000/15000 [==============================] - 1s 55us/sample - loss: 0.3464 - acc: 0.8873 - val_loss: 0.3746 - val_acc: 0.8591\n",
      "Epoch 13/40\n",
      "15000/15000 [==============================] - 1s 62us/sample - loss: 0.3230 - acc: 0.8918 - val_loss: 0.3563 - val_acc: 0.8653\n",
      "Epoch 14/40\n",
      "15000/15000 [==============================] - 1s 63us/sample - loss: 0.3019 - acc: 0.8979 - val_loss: 0.3431 - val_acc: 0.8705\n",
      "Epoch 15/40\n",
      "15000/15000 [==============================] - 1s 59us/sample - loss: 0.2844 - acc: 0.9027 - val_loss: 0.3319 - val_acc: 0.8724\n",
      "Epoch 16/40\n",
      "15000/15000 [==============================] - 1s 60us/sample - loss: 0.2687 - acc: 0.9075 - val_loss: 0.3229 - val_acc: 0.8748\n",
      "Epoch 17/40\n",
      "15000/15000 [==============================] - 1s 57us/sample - loss: 0.2543 - acc: 0.9121 - val_loss: 0.3152 - val_acc: 0.8761\n",
      "Epoch 18/40\n",
      "15000/15000 [==============================] - 1s 61us/sample - loss: 0.2416 - acc: 0.9173 - val_loss: 0.3085 - val_acc: 0.8785\n",
      "Epoch 19/40\n",
      "15000/15000 [==============================] - 1s 60us/sample - loss: 0.2301 - acc: 0.9200 - val_loss: 0.3031 - val_acc: 0.8802\n",
      "Epoch 20/40\n",
      "15000/15000 [==============================] - 1s 57us/sample - loss: 0.2198 - acc: 0.9235 - val_loss: 0.2992 - val_acc: 0.8810\n",
      "Epoch 21/40\n",
      "15000/15000 [==============================] - 1s 57us/sample - loss: 0.2094 - acc: 0.9291 - val_loss: 0.2960 - val_acc: 0.8822\n",
      "Epoch 22/40\n",
      "15000/15000 [==============================] - 1s 62us/sample - loss: 0.2006 - acc: 0.9306 - val_loss: 0.2926 - val_acc: 0.8835\n",
      "Epoch 23/40\n",
      "15000/15000 [==============================] - 1s 60us/sample - loss: 0.1917 - acc: 0.9347 - val_loss: 0.2913 - val_acc: 0.8827\n",
      "Epoch 24/40\n",
      "15000/15000 [==============================] - 1s 62us/sample - loss: 0.1841 - acc: 0.9386 - val_loss: 0.2894 - val_acc: 0.8845\n",
      "Epoch 25/40\n",
      "15000/15000 [==============================] - 1s 60us/sample - loss: 0.1762 - acc: 0.9432 - val_loss: 0.2873 - val_acc: 0.8842\n",
      "Epoch 26/40\n",
      "15000/15000 [==============================] - 1s 61us/sample - loss: 0.1693 - acc: 0.9452 - val_loss: 0.2876 - val_acc: 0.8835\n",
      "Epoch 27/40\n",
      "15000/15000 [==============================] - 1s 63us/sample - loss: 0.1626 - acc: 0.9476 - val_loss: 0.2866 - val_acc: 0.8844\n",
      "Epoch 28/40\n",
      "15000/15000 [==============================] - 1s 62us/sample - loss: 0.1562 - acc: 0.9514 - val_loss: 0.2869 - val_acc: 0.8857\n",
      "Epoch 29/40\n",
      "15000/15000 [==============================] - 1s 61us/sample - loss: 0.1508 - acc: 0.9545 - val_loss: 0.2879 - val_acc: 0.8836\n",
      "Epoch 30/40\n",
      "15000/15000 [==============================] - 1s 62us/sample - loss: 0.1450 - acc: 0.9551 - val_loss: 0.2870 - val_acc: 0.8861\n",
      "Epoch 31/40\n",
      "15000/15000 [==============================] - 1s 60us/sample - loss: 0.1390 - acc: 0.9589 - val_loss: 0.2877 - val_acc: 0.8866\n",
      "Epoch 32/40\n",
      "15000/15000 [==============================] - 1s 57us/sample - loss: 0.1337 - acc: 0.9607 - val_loss: 0.2889 - val_acc: 0.8860\n",
      "Epoch 33/40\n",
      "15000/15000 [==============================] - 1s 61us/sample - loss: 0.1286 - acc: 0.9624 - val_loss: 0.2908 - val_acc: 0.8862\n",
      "Epoch 34/40\n",
      "15000/15000 [==============================] - 1s 67us/sample - loss: 0.1240 - acc: 0.9640 - val_loss: 0.2926 - val_acc: 0.8861\n",
      "Epoch 35/40\n",
      "15000/15000 [==============================] - 1s 62us/sample - loss: 0.1198 - acc: 0.9643 - val_loss: 0.2945 - val_acc: 0.8868\n",
      "Epoch 36/40\n",
      "15000/15000 [==============================] - 1s 56us/sample - loss: 0.1151 - acc: 0.9675 - val_loss: 0.2961 - val_acc: 0.8855\n",
      "Epoch 37/40\n",
      "15000/15000 [==============================] - 1s 56us/sample - loss: 0.1107 - acc: 0.9687 - val_loss: 0.2985 - val_acc: 0.8850\n",
      "Epoch 38/40\n",
      "15000/15000 [==============================] - 1s 55us/sample - loss: 0.1066 - acc: 0.9707 - val_loss: 0.3017 - val_acc: 0.8837\n",
      "Epoch 39/40\n",
      "15000/15000 [==============================] - 1s 57us/sample - loss: 0.1034 - acc: 0.9713 - val_loss: 0.3048 - val_acc: 0.8838\n",
      "Epoch 40/40\n",
      "15000/15000 [==============================] - 1s 63us/sample - loss: 0.0992 - acc: 0.9738 - val_loss: 0.3072 - val_acc: 0.8839\n"
     ]
    }
   ],
   "source": [
    "history = model.fit(partial_x_train,\n",
    "                    partial_y_train,\n",
    "                    epochs=40,\n",
    "                    batch_size=512,\n",
    "                    validation_data=(x_val, y_val),\n",
    "                    verbose=1)"
   ]
  },
  {
   "cell_type": "code",
   "execution_count": 28,
   "metadata": {},
   "outputs": [
    {
     "name": "stdout",
     "output_type": "stream",
     "text": [
      "25000/25000 [==============================] - 1s 29us/sample - loss: 0.3276 - acc: 0.8722\n",
      "[0.3276186378192902, 0.87224]\n"
     ]
    }
   ],
   "source": [
    "results = model.evaluate(test_data, test_labels)\n",
    "\n",
    "print(results)"
   ]
  },
  {
   "cell_type": "code",
   "execution_count": 29,
   "metadata": {},
   "outputs": [
    {
     "data": {
      "text/plain": [
       "dict_keys(['loss', 'acc', 'val_loss', 'val_acc'])"
      ]
     },
     "execution_count": 29,
     "metadata": {},
     "output_type": "execute_result"
    }
   ],
   "source": [
    "history_dict = history.history\n",
    "history_dict.keys()"
   ]
  },
  {
   "cell_type": "code",
   "execution_count": 30,
   "metadata": {},
   "outputs": [
    {
     "data": {
      "text/plain": [
       "<Figure size 640x480 with 1 Axes>"
      ]
     },
     "metadata": {},
     "output_type": "display_data"
    }
   ],
   "source": [
    "import matplotlib.pyplot as plt\n",
    "\n",
    "acc = history_dict['acc']\n",
    "val_acc = history_dict['val_acc']\n",
    "loss = history_dict['loss']\n",
    "val_loss = history_dict['val_loss']\n",
    "\n",
    "epochs = range(1, len(acc) + 1)\n",
    "\n",
    "# \"bo\" is for \"blue dot\"\n",
    "plt.plot(epochs, loss, 'bo', label='Training loss')\n",
    "# b is for \"solid blue line\"\n",
    "plt.plot(epochs, val_loss, 'b', label='Validation loss')\n",
    "plt.title('Training and validation loss')\n",
    "plt.xlabel('Epochs')\n",
    "plt.ylabel('Loss')\n",
    "plt.legend()\n",
    "\n",
    "plt.show()"
   ]
  },
  {
   "cell_type": "code",
   "execution_count": 31,
   "metadata": {},
   "outputs": [
    {
     "data": {
      "image/png": "[encoded data removed]",
      "text/plain": [
       "<Figure size 432x288 with 1 Axes>"
      ]
     },
     "metadata": {
      "needs_background": "light"
     },
     "output_type": "display_data"
    }
   ],
   "source": [
    "plt.clf()   # clear figure\n",
    "\n",
    "plt.plot(epochs, acc, 'bo', label='Training acc')\n",
    "plt.plot(epochs, val_acc, 'b', label='Validation acc')\n",
    "plt.title('Training and validation accuracy')\n",
    "plt.xlabel('Epochs')\n",
    "plt.ylabel('Accuracy')\n",
    "plt.legend()\n",
    "\n",
    "plt.show()"
   ]
  }
 ],
 "metadata": {
  "kernelspec": {
   "display_name": "Python 3",
   "language": "python",
   "name": "python3"
  },
  "language_info": {
   "codemirror_mode": {
    "name": "ipython",
    "version": 3
   },
   "file_extension": ".py",
   "mimetype": "text/x-python",
   "name": "python",
   "nbconvert_exporter": "python",
   "pygments_lexer": "ipython3",
   "version": "3.7.1"
  }
 },
 "nbformat": 4,
 "nbformat_minor": 2
}
